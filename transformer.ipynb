{
 "cells": [
  {
   "cell_type": "markdown",
   "metadata": {},
   "source": [
    "<h3>Usage example</h3>"
   ]
  },
  {
   "cell_type": "code",
   "execution_count": null,
   "metadata": {},
   "outputs": [],
   "source": [
    "from src.BaseNetwork import BaseNetwork\n",
    "from models.model_example import ModelExample\n",
    "import torch\n",
    "\n",
    "config_path = 'configs/config_example.yaml'\n",
    "\n",
    "model_constructor = ModelExample #without the brackets"
   ]
  },
  {
   "cell_type": "code",
   "execution_count": null,
   "metadata": {},
   "outputs": [],
   "source": [
    "# load your data, then convert it into torch.tensor. I suppose that your tensors will have shape like data=(time, n_features), target=(time, 1)\n",
    "data, target = ...\n",
    "data = torch.tensor(data)\n",
    "data = torch.tensor(target)"
   ]
  },
  {
   "cell_type": "code",
   "execution_count": null,
   "metadata": {},
   "outputs": [],
   "source": [
    "model_pipeline = BaseNetwork(\n",
    "    config_path=config_path,\n",
    "    model_class_constructor=model_constructor,\n",
    "    data=data,\n",
    "    target=target\n",
    ")"
   ]
  },
  {
   "cell_type": "code",
   "execution_count": null,
   "metadata": {},
   "outputs": [],
   "source": [
    "# and now you can train your model with your config from config_path\n",
    "model, losses = model_pipeline.train(\n",
    "    return_model=True,\n",
    "    return_loss_logs=True\n",
    ")"
   ]
  }
 ],
 "metadata": {
  "kernelspec": {
   "display_name": "Python 3",
   "language": "python",
   "name": "python3"
  },
  "language_info": {
   "codemirror_mode": {
    "name": "ipython",
    "version": 3
   },
   "file_extension": ".py",
   "mimetype": "text/x-python",
   "name": "python",
   "nbconvert_exporter": "python",
   "pygments_lexer": "ipython3",
   "version": "3.10.6"
  }
 },
 "nbformat": 4,
 "nbformat_minor": 2
}
