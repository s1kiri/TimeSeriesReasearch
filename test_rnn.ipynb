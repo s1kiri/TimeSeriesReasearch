{
 "cells": [
  {
   "cell_type": "code",
   "execution_count": 1,
   "metadata": {},
   "outputs": [],
   "source": [
    "from src.BaseNetwork import BaseNetwork\n",
    "from models.rnn import LSTM\n",
    "import torch\n",
    "\n",
    "config_path = 'configs/rnn.yaml'\n",
    "\n",
    "model_constructor = LSTM "
   ]
  },
  {
   "cell_type": "code",
   "execution_count": 2,
   "metadata": {},
   "outputs": [],
   "source": [
    "import numpy as np\n",
    "def generate_data(seq_length, num_samples=1000):\n",
    "    x = np.linspace(0, 100, num_samples)\n",
    "    y = np.sin(x) + 0.1 * np.random.normal(size=num_samples)\n",
    "    data_x = []\n",
    "    data_y = []\n",
    "    for i in range(len(y) - seq_length):\n",
    "        data_x.append(y[i:i+seq_length])\n",
    "        data_y.append(y[i+seq_length])\n",
    "    return np.array(data_x), np.array(data_y)\n"
   ]
  },
  {
   "cell_type": "code",
   "execution_count": null,
   "metadata": {},
   "outputs": [],
   "source": [
    "# load your data, then convert it into torch.tensor. I suppose that your tensors will have shape like data=(time, n_features), target=(time, 1)\n",
    "data, target = generate_data(30)\n",
    "data = torch.tensor(data, dtype=torch.float32)\n",
    "target = torch.tensor(target, dtype=torch.float32).unsqueeze(1)"
   ]
  },
  {
   "cell_type": "code",
   "execution_count": 6,
   "metadata": {},
   "outputs": [
    {
     "data": {
      "text/plain": [
       "torch.Size([970, 1])"
      ]
     },
     "execution_count": 6,
     "metadata": {},
     "output_type": "execute_result"
    }
   ],
   "source": [
    "target.shape"
   ]
  },
  {
   "cell_type": "code",
   "execution_count": 7,
   "metadata": {},
   "outputs": [],
   "source": [
    "model_pipeline = BaseNetwork(\n",
    "    config_path=config_path,\n",
    "    model_class_constructor=model_constructor,\n",
    "    data=data,\n",
    "    target=target\n",
    ")"
   ]
  },
  {
   "cell_type": "code",
   "execution_count": 8,
   "metadata": {},
   "outputs": [
    {
     "name": "stderr",
     "output_type": "stream",
     "text": [
      "  0%|          | 0/56 [00:00<?, ?it/s]/Users/ilya/Library/Python/3.9/lib/python/site-packages/torch/nn/modules/loss.py:608: UserWarning: Using a target size (torch.Size([16, 1, 1])) that is different to the input size (torch.Size([16, 1])). This will likely lead to incorrect results due to broadcasting. Please ensure they have the same size.\n",
      "  return F.mse_loss(input, target, reduction=self.reduction)\n",
      "Training loss: 0.15930211544036865:  45%|████▍     | 25/56 [00:00<00:00, 242.36it/s]/Users/ilya/Library/Python/3.9/lib/python/site-packages/torch/nn/modules/loss.py:608: UserWarning: Using a target size (torch.Size([12, 1, 1])) that is different to the input size (torch.Size([12, 1])). This will likely lead to incorrect results due to broadcasting. Please ensure they have the same size.\n",
      "  return F.mse_loss(input, target, reduction=self.reduction)\n",
      "Training loss: 0.15312904119491577: 100%|██████████| 56/56 [00:00<00:00, 276.74it/s]\n",
      "/Users/ilya/Library/Python/3.9/lib/python/site-packages/torch/nn/modules/loss.py:608: UserWarning: Using a target size (torch.Size([2, 1, 1])) that is different to the input size (torch.Size([2, 1])). This will likely lead to incorrect results due to broadcasting. Please ensure they have the same size.\n",
      "  return F.mse_loss(input, target, reduction=self.reduction)\n",
      "Training loss: 0.1701388955116272: 100%|██████████| 56/56 [00:00<00:00, 254.79it/s]  \n",
      "Training loss: 0.16736166179180145: 100%|██████████| 56/56 [00:00<00:00, 308.64it/s] \n"
     ]
    }
   ],
   "source": [
    "loader = model_pipeline.train(return_model = False, return_loss_logs = True)"
   ]
  },
  {
   "cell_type": "code",
   "execution_count": null,
   "metadata": {},
   "outputs": [],
   "source": []
  }
 ],
 "metadata": {
  "kernelspec": {
   "display_name": "Python 3",
   "language": "python",
   "name": "python3"
  },
  "language_info": {
   "codemirror_mode": {
    "name": "ipython",
    "version": 3
   },
   "file_extension": ".py",
   "mimetype": "text/x-python",
   "name": "python",
   "nbconvert_exporter": "python",
   "pygments_lexer": "ipython3",
   "version": "3.9.6"
  }
 },
 "nbformat": 4,
 "nbformat_minor": 2
}
